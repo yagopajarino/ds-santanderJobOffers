{
 "cells": [
  {
   "cell_type": "markdown",
   "id": "6ec5712e",
   "metadata": {},
   "source": [
    "# Scrapping Santander ofertas de trabajo"
   ]
  },
  {
   "cell_type": "markdown",
   "id": "7c00a4ae",
   "metadata": {},
   "source": [
    "## 1 - Librerías y paquetes"
   ]
  },
  {
   "cell_type": "code",
   "execution_count": 21,
   "id": "b4ed2ce0",
   "metadata": {},
   "outputs": [],
   "source": [
    "import pandas as pd\n",
    "import requests\n",
    "from bs4 import BeautifulSoup\n",
    "import sys\n",
    "import matplotlib.pyplot as plt"
   ]
  },
  {
   "cell_type": "markdown",
   "id": "dbc05bbe",
   "metadata": {},
   "source": [
    "## 2 - Obtención de cantidad de páginas con avisos"
   ]
  },
  {
   "cell_type": "code",
   "execution_count": 9,
   "id": "ddce4aa2",
   "metadata": {},
   "outputs": [],
   "source": [
    "def getSoup(n):    \n",
    "    url = f\"https://empleo.santander.com/buscar-trabajo/?p={n}\"\n",
    "    r = requests.get(url)\n",
    "    soup = BeautifulSoup(r.text, \"html.parser\")\n",
    "    return soup"
   ]
  },
  {
   "cell_type": "code",
   "execution_count": 10,
   "id": "dc625188",
   "metadata": {},
   "outputs": [],
   "source": [
    "soup = getSoup(1)"
   ]
  },
  {
   "cell_type": "code",
   "execution_count": 11,
   "id": "03df73de",
   "metadata": {},
   "outputs": [],
   "source": [
    "n = soup.find(\"span\", {\"class\": \"pagination-total-pages\"})\n",
    "paginasTotales = int(\"\".join([x for x in n.string if x.isnumeric()]))"
   ]
  },
  {
   "cell_type": "code",
   "execution_count": 12,
   "id": "30f5e96d",
   "metadata": {},
   "outputs": [
    {
     "data": {
      "text/plain": [
       "195"
      ]
     },
     "execution_count": 12,
     "metadata": {},
     "output_type": "execute_result"
    }
   ],
   "source": [
    "paginasTotales"
   ]
  },
  {
   "cell_type": "markdown",
   "id": "dbd46e29",
   "metadata": {},
   "source": [
    "## 3 - Obtención de links de avisos"
   ]
  },
  {
   "cell_type": "code",
   "execution_count": 13,
   "id": "9fe17b9a",
   "metadata": {},
   "outputs": [],
   "source": [
    "# Obtiene lista de link de avisos\n",
    "def getAvisos(soup, avisos):    \n",
    "    listaItems = soup.find_all(\"li\", {\"class\":\"results-list-item\"})\n",
    "    endpoint = \"https://empleo.santander.com/\"\n",
    "    for item in listaItems:\n",
    "        page = item.a[\"href\"]\n",
    "        avisos.append(endpoint + page)\n",
    "    return None"
   ]
  },
  {
   "cell_type": "markdown",
   "id": "827e0a20",
   "metadata": {},
   "source": [
    "Loop en las páginasTotales para obtener todos los links a avisos."
   ]
  },
  {
   "cell_type": "code",
   "execution_count": 14,
   "id": "fe56816b",
   "metadata": {},
   "outputs": [
    {
     "name": "stdout",
     "output_type": "stream",
     "text": [
      "5 10 15 20 25 30 35 40 45 50 55 60 65 70 75 80 85 90 95 100 105 110 115 120 125 130 135 140 145 150 155 160 165 170 175 180 185 190 195 "
     ]
    }
   ],
   "source": [
    "avisos = []\n",
    "for x in range(1,paginasTotales+1):\n",
    "    try:\n",
    "        soup = getSoup(x)\n",
    "        getAvisos(soup, avisos)\n",
    "        if x%5 == 0:\n",
    "            print(x, end=\" \")\n",
    "    except:\n",
    "        print(f\"\\n error on {x}\")"
   ]
  },
  {
   "cell_type": "code",
   "execution_count": 15,
   "id": "856e0efa",
   "metadata": {},
   "outputs": [
    {
     "data": {
      "text/plain": [
       "2912"
      ]
     },
     "execution_count": 15,
     "metadata": {},
     "output_type": "execute_result"
    }
   ],
   "source": [
    "len(avisos)"
   ]
  },
  {
   "cell_type": "markdown",
   "id": "f6127d1b",
   "metadata": {},
   "source": [
    "## 4 - Extracción de datos de avisos"
   ]
  },
  {
   "cell_type": "markdown",
   "id": "d28bd66c",
   "metadata": {},
   "source": [
    "Extracción de los datos de cabecera de cada aviso."
   ]
  },
  {
   "cell_type": "code",
   "execution_count": 16,
   "id": "d3864541",
   "metadata": {},
   "outputs": [
    {
     "name": "stdout",
     "output_type": "stream",
     "text": [
      "0 5 10 15 20 25 30 35 40 45 50 55 60 65 70 75 80 85 90 95 100 105 110 115 120 125 130 135 140 145 150 155 160 165 170 175 180 185 190 195 200 205 210 215 220 225 230 235 240 245 250 255 260 265 270 275 280 285 290 295 300 305 310 315 320 325 330 335 340 345 350 355 360 365 370 375 380 385 390 395 400 405 410 415 420 425 430 435 440 445 450 455 460 465 470 475 480 485 490 495 500 505 510 515 520 525 530 535 540 545 550 555 560 565 570 575 580 585 590 595 600 605 610 615 620 625 630 635 640 645 650 655 660 665 670 675 680 685 690 695 700 705 710 715 720 725 730 735 740 745 750 755 760 765 770 775 780 785 790 795 800 805 810 815 820 825 830 835 840 845 850 855 860 865 870 875 880 885 890 895 900 905 910 915 920 925 930 935 940 945 950 955 960 965 970 975 980 985 990 995 1000 1005 1010 1015 1020 1025 1030 1035 1040 1045 1050 1055 1060 1065 1070 1075 1080 1085 1090 1095 1100 1105 1110 1115 1120 1125 1130 1135 1140 1145 1150 1155 1160 1165 1170 1175 1180 1185 1190 1195 1200 1205 1210 1215 1220 1225 1230 1235 1240 1245 1250 1255 1260 1265 1270 1275 1280 1285 1290 1295 1300 1305 1310 1315 1320 1325 1330 1335 1340 1345 1350 1355 1360 1365 1370 1375 1380 1385 1390 1395 1400 1405 1410 1415 1420 1425 1430 1435 1440 1445 1450 1455 1460 1465 1470 1475 1480 1485 1490 1495 1500 1505 1510 1515 1520 1525 1530 1535 1540 1545 1550 1555 1560 1565 1570 1575 1580 1585 1590 1595 1600 1605 1610 1615 1620 1625 1630 1635 1640 1645 1650 1655 1660 1665 1670 1675 1680 1685 1690 1695 1700 1705 1710 1715 1720 1725 1730 1735 1740 1745 1750 1755 1760 1765 1770 1775 1780 1785 1790 1795 1800 1805 1810 1815 1820 1825 1830 1835 1840 1845 1850 1855 1860 1865 1870 1875 1880 1885 1890 1895 1900 1905 1910 1915 1920 1925 1930 1935 1940 1945 1950 1955 1960 1965 1970 1975 1980 1985 1990 1995 2000 2005 2010 2015 2020 2025 2030 2035 2040 2045 2050 2055 2060 2065 2070 2075 2080 2085 2090 2095 2100 2105 2110 2115 2120 2125 2130 2135 2140 2145 2150 2155 2160 2165 2170 2175 2180 2185 2190 2195 2200 2205 2210 2215 2220 2225 2230 2235 2240 2245 2250 2255 2260 2265 2270 2275 2280 2285 2290 2295 2300 2305 2310 2315 2320 2325 2330 2335 2340 2345 2350 2355 2360 2365 2370 2375 2380 2385 2390 2395 2400 2405 2410 2415 2420 2425 2430 2435 2440 2445 2450 2455 2460 2465 2470 2475 2480 2485 2490 2495 2500 2505 2510 2515 2520 2525 2530 2535 2540 2545 2550 2555 2560 2565 2570 2575 2580 2585 2590 2595 2600 2605 2610 2615 2620 2625 2630 2635 2640 2645 2650 2655 2660 2665 2670 2675 2680 2685 2690 2695 2700 2705 2710 2715 2720 2725 2730 2735 2740 2745 2750 2755 2760 2765 2770 2775 2780 2785 2790 2795 2800 2805 2810 2815 2820 2825 2830 2835 2840 2845 2850 2855 2860 2865 2870 2875 2880 2885 2890 2895 2900 2905 2910 "
     ]
    }
   ],
   "source": [
    "jobsInfo = []\n",
    "for n in range(len(avisos)):\n",
    "    try:\n",
    "        r = requests.get(avisos[n])\n",
    "        soup = BeautifulSoup(r.text, \"html.parser\")\n",
    "        clases = [\"job-location\", \"job-category\", \"job-date\", \"job-id\"]\n",
    "        data = {}\n",
    "        for clase in clases:\n",
    "            nodo = soup.find(\"span\", {\"class\":clase})\n",
    "            s = list(nodo.strings)\n",
    "            s = [term.strip(\" \\n\\r\") for term in s]\n",
    "            data[s[0]] = s[1]\n",
    "        jobsInfo.append(data)\n",
    "        if n%5==0:\n",
    "            print(n, end=\" \")\n",
    "    except:\n",
    "        print(f\"error en {n}\", end = \"\\n\")"
   ]
  },
  {
   "cell_type": "markdown",
   "id": "7fd7d498",
   "metadata": {},
   "source": [
    "## 5 - Carga de los datos al DataFrame"
   ]
  },
  {
   "cell_type": "code",
   "execution_count": 40,
   "id": "92d42433",
   "metadata": {},
   "outputs": [
    {
     "data": {
      "text/html": [
       "<div>\n",
       "<style scoped>\n",
       "    .dataframe tbody tr th:only-of-type {\n",
       "        vertical-align: middle;\n",
       "    }\n",
       "\n",
       "    .dataframe tbody tr th {\n",
       "        vertical-align: top;\n",
       "    }\n",
       "\n",
       "    .dataframe thead th {\n",
       "        text-align: right;\n",
       "    }\n",
       "</style>\n",
       "<table border=\"1\" class=\"dataframe\">\n",
       "  <thead>\n",
       "    <tr style=\"text-align: right;\">\n",
       "      <th></th>\n",
       "      <th>Lugar</th>\n",
       "      <th>Categoría</th>\n",
       "      <th>PUBLICACIÓN</th>\n",
       "      <th>ID Puesto</th>\n",
       "    </tr>\n",
       "  </thead>\n",
       "  <tbody>\n",
       "    <tr>\n",
       "      <th>0</th>\n",
       "      <td>São Paulo, Brasil</td>\n",
       "      <td>Product &amp; Service Value Proposition Management...</td>\n",
       "      <td>09/03/2022</td>\n",
       "      <td>Req0934931</td>\n",
       "    </tr>\n",
       "    <tr>\n",
       "      <th>1</th>\n",
       "      <td>Sheffield, Reino Unido</td>\n",
       "      <td>Customer S&amp;S: Remote (NEW)</td>\n",
       "      <td>16/02/2022</td>\n",
       "      <td>Req0927008</td>\n",
       "    </tr>\n",
       "    <tr>\n",
       "      <th>2</th>\n",
       "      <td>Milton Keynes, Reino Unido</td>\n",
       "      <td>Customer S&amp;S: Remote (NEW)</td>\n",
       "      <td>20/01/2022</td>\n",
       "      <td>Req0915544</td>\n",
       "    </tr>\n",
       "    <tr>\n",
       "      <th>3</th>\n",
       "      <td>Bootle, Reino Unido</td>\n",
       "      <td>Customer S&amp;S: Remote (NEW)</td>\n",
       "      <td>07/12/2021</td>\n",
       "      <td>Req0900646</td>\n",
       "    </tr>\n",
       "    <tr>\n",
       "      <th>4</th>\n",
       "      <td>Madrid, España</td>\n",
       "      <td>Project, Product Management</td>\n",
       "      <td>10/03/2022</td>\n",
       "      <td>Req0935337</td>\n",
       "    </tr>\n",
       "    <tr>\n",
       "      <th>...</th>\n",
       "      <td>...</td>\n",
       "      <td>...</td>\n",
       "      <td>...</td>\n",
       "      <td>...</td>\n",
       "    </tr>\n",
       "    <tr>\n",
       "      <th>2907</th>\n",
       "      <td>Naucalpan de Juárez, México</td>\n",
       "      <td>Strategy &amp; Corporate Development (NEW)</td>\n",
       "      <td>12/02/2020</td>\n",
       "      <td>Req0727970</td>\n",
       "    </tr>\n",
       "    <tr>\n",
       "      <th>2908</th>\n",
       "      <td>Dallas, Estados Unidos</td>\n",
       "      <td>Cumplimiento &amp; Asesoría Jurídica</td>\n",
       "      <td>01/11/2021</td>\n",
       "      <td>okophfw8</td>\n",
       "    </tr>\n",
       "    <tr>\n",
       "      <th>2909</th>\n",
       "      <td>Campeche, México</td>\n",
       "      <td>Customer S&amp;S: F2F (NEW)</td>\n",
       "      <td>26/02/2020</td>\n",
       "      <td>Req0729542</td>\n",
       "    </tr>\n",
       "    <tr>\n",
       "      <th>2910</th>\n",
       "      <td>Nueva York, Estados Unidos</td>\n",
       "      <td>Consumer Financing, Corporate &amp; Investment Ban...</td>\n",
       "      <td>11/08/2021</td>\n",
       "      <td>2104001</td>\n",
       "    </tr>\n",
       "    <tr>\n",
       "      <th>2911</th>\n",
       "      <td>Sahuayo de Morelos, México</td>\n",
       "      <td>Strategy &amp; Corporate Development (NEW)</td>\n",
       "      <td>28/01/2020</td>\n",
       "      <td>Req0726636</td>\n",
       "    </tr>\n",
       "  </tbody>\n",
       "</table>\n",
       "<p>2912 rows × 4 columns</p>\n",
       "</div>"
      ],
      "text/plain": [
       "                            Lugar  \\\n",
       "0               São Paulo, Brasil   \n",
       "1          Sheffield, Reino Unido   \n",
       "2      Milton Keynes, Reino Unido   \n",
       "3             Bootle, Reino Unido   \n",
       "4                  Madrid, España   \n",
       "...                           ...   \n",
       "2907  Naucalpan de Juárez, México   \n",
       "2908       Dallas, Estados Unidos   \n",
       "2909             Campeche, México   \n",
       "2910   Nueva York, Estados Unidos   \n",
       "2911   Sahuayo de Morelos, México   \n",
       "\n",
       "                                              Categoría PUBLICACIÓN  \\\n",
       "0     Product & Service Value Proposition Management...  09/03/2022   \n",
       "1                            Customer S&S: Remote (NEW)  16/02/2022   \n",
       "2                            Customer S&S: Remote (NEW)  20/01/2022   \n",
       "3                            Customer S&S: Remote (NEW)  07/12/2021   \n",
       "4                           Project, Product Management  10/03/2022   \n",
       "...                                                 ...         ...   \n",
       "2907             Strategy & Corporate Development (NEW)  12/02/2020   \n",
       "2908                   Cumplimiento & Asesoría Jurídica  01/11/2021   \n",
       "2909                            Customer S&S: F2F (NEW)  26/02/2020   \n",
       "2910  Consumer Financing, Corporate & Investment Ban...  11/08/2021   \n",
       "2911             Strategy & Corporate Development (NEW)  28/01/2020   \n",
       "\n",
       "       ID Puesto  \n",
       "0     Req0934931  \n",
       "1     Req0927008  \n",
       "2     Req0915544  \n",
       "3     Req0900646  \n",
       "4     Req0935337  \n",
       "...          ...  \n",
       "2907  Req0727970  \n",
       "2908    okophfw8  \n",
       "2909  Req0729542  \n",
       "2910     2104001  \n",
       "2911  Req0726636  \n",
       "\n",
       "[2912 rows x 4 columns]"
      ]
     },
     "execution_count": 40,
     "metadata": {},
     "output_type": "execute_result"
    }
   ],
   "source": [
    "df = pd.DataFrame(jobsInfo)\n",
    "df"
   ]
  },
  {
   "cell_type": "code",
   "execution_count": 43,
   "id": "2214d630",
   "metadata": {},
   "outputs": [],
   "source": [
    "df[\"PUBLICACIÓN\"] = pd.to_datetime(df[\"PUBLICACIÓN\"],format=\"%d/%m/%Y\")"
   ]
  },
  {
   "cell_type": "code",
   "execution_count": 44,
   "id": "ae50f4f9",
   "metadata": {},
   "outputs": [
    {
     "data": {
      "text/html": [
       "<div>\n",
       "<style scoped>\n",
       "    .dataframe tbody tr th:only-of-type {\n",
       "        vertical-align: middle;\n",
       "    }\n",
       "\n",
       "    .dataframe tbody tr th {\n",
       "        vertical-align: top;\n",
       "    }\n",
       "\n",
       "    .dataframe thead th {\n",
       "        text-align: right;\n",
       "    }\n",
       "</style>\n",
       "<table border=\"1\" class=\"dataframe\">\n",
       "  <thead>\n",
       "    <tr style=\"text-align: right;\">\n",
       "      <th></th>\n",
       "      <th>Lugar</th>\n",
       "      <th>Categoría</th>\n",
       "      <th>PUBLICACIÓN</th>\n",
       "      <th>ID Puesto</th>\n",
       "    </tr>\n",
       "  </thead>\n",
       "  <tbody>\n",
       "    <tr>\n",
       "      <th>0</th>\n",
       "      <td>São Paulo, Brasil</td>\n",
       "      <td>Product &amp; Service Value Proposition Management...</td>\n",
       "      <td>2022-03-09</td>\n",
       "      <td>Req0934931</td>\n",
       "    </tr>\n",
       "    <tr>\n",
       "      <th>1</th>\n",
       "      <td>Sheffield, Reino Unido</td>\n",
       "      <td>Customer S&amp;S: Remote (NEW)</td>\n",
       "      <td>2022-02-16</td>\n",
       "      <td>Req0927008</td>\n",
       "    </tr>\n",
       "    <tr>\n",
       "      <th>2</th>\n",
       "      <td>Milton Keynes, Reino Unido</td>\n",
       "      <td>Customer S&amp;S: Remote (NEW)</td>\n",
       "      <td>2022-01-20</td>\n",
       "      <td>Req0915544</td>\n",
       "    </tr>\n",
       "    <tr>\n",
       "      <th>3</th>\n",
       "      <td>Bootle, Reino Unido</td>\n",
       "      <td>Customer S&amp;S: Remote (NEW)</td>\n",
       "      <td>2021-12-07</td>\n",
       "      <td>Req0900646</td>\n",
       "    </tr>\n",
       "    <tr>\n",
       "      <th>4</th>\n",
       "      <td>Madrid, España</td>\n",
       "      <td>Project, Product Management</td>\n",
       "      <td>2022-03-10</td>\n",
       "      <td>Req0935337</td>\n",
       "    </tr>\n",
       "    <tr>\n",
       "      <th>...</th>\n",
       "      <td>...</td>\n",
       "      <td>...</td>\n",
       "      <td>...</td>\n",
       "      <td>...</td>\n",
       "    </tr>\n",
       "    <tr>\n",
       "      <th>2907</th>\n",
       "      <td>Naucalpan de Juárez, México</td>\n",
       "      <td>Strategy &amp; Corporate Development (NEW)</td>\n",
       "      <td>2020-02-12</td>\n",
       "      <td>Req0727970</td>\n",
       "    </tr>\n",
       "    <tr>\n",
       "      <th>2908</th>\n",
       "      <td>Dallas, Estados Unidos</td>\n",
       "      <td>Cumplimiento &amp; Asesoría Jurídica</td>\n",
       "      <td>2021-11-01</td>\n",
       "      <td>okophfw8</td>\n",
       "    </tr>\n",
       "    <tr>\n",
       "      <th>2909</th>\n",
       "      <td>Campeche, México</td>\n",
       "      <td>Customer S&amp;S: F2F (NEW)</td>\n",
       "      <td>2020-02-26</td>\n",
       "      <td>Req0729542</td>\n",
       "    </tr>\n",
       "    <tr>\n",
       "      <th>2910</th>\n",
       "      <td>Nueva York, Estados Unidos</td>\n",
       "      <td>Consumer Financing, Corporate &amp; Investment Ban...</td>\n",
       "      <td>2021-08-11</td>\n",
       "      <td>2104001</td>\n",
       "    </tr>\n",
       "    <tr>\n",
       "      <th>2911</th>\n",
       "      <td>Sahuayo de Morelos, México</td>\n",
       "      <td>Strategy &amp; Corporate Development (NEW)</td>\n",
       "      <td>2020-01-28</td>\n",
       "      <td>Req0726636</td>\n",
       "    </tr>\n",
       "  </tbody>\n",
       "</table>\n",
       "<p>2912 rows × 4 columns</p>\n",
       "</div>"
      ],
      "text/plain": [
       "                            Lugar  \\\n",
       "0               São Paulo, Brasil   \n",
       "1          Sheffield, Reino Unido   \n",
       "2      Milton Keynes, Reino Unido   \n",
       "3             Bootle, Reino Unido   \n",
       "4                  Madrid, España   \n",
       "...                           ...   \n",
       "2907  Naucalpan de Juárez, México   \n",
       "2908       Dallas, Estados Unidos   \n",
       "2909             Campeche, México   \n",
       "2910   Nueva York, Estados Unidos   \n",
       "2911   Sahuayo de Morelos, México   \n",
       "\n",
       "                                              Categoría PUBLICACIÓN  \\\n",
       "0     Product & Service Value Proposition Management...  2022-03-09   \n",
       "1                            Customer S&S: Remote (NEW)  2022-02-16   \n",
       "2                            Customer S&S: Remote (NEW)  2022-01-20   \n",
       "3                            Customer S&S: Remote (NEW)  2021-12-07   \n",
       "4                           Project, Product Management  2022-03-10   \n",
       "...                                                 ...         ...   \n",
       "2907             Strategy & Corporate Development (NEW)  2020-02-12   \n",
       "2908                   Cumplimiento & Asesoría Jurídica  2021-11-01   \n",
       "2909                            Customer S&S: F2F (NEW)  2020-02-26   \n",
       "2910  Consumer Financing, Corporate & Investment Ban...  2021-08-11   \n",
       "2911             Strategy & Corporate Development (NEW)  2020-01-28   \n",
       "\n",
       "       ID Puesto  \n",
       "0     Req0934931  \n",
       "1     Req0927008  \n",
       "2     Req0915544  \n",
       "3     Req0900646  \n",
       "4     Req0935337  \n",
       "...          ...  \n",
       "2907  Req0727970  \n",
       "2908    okophfw8  \n",
       "2909  Req0729542  \n",
       "2910     2104001  \n",
       "2911  Req0726636  \n",
       "\n",
       "[2912 rows x 4 columns]"
      ]
     },
     "execution_count": 44,
     "metadata": {},
     "output_type": "execute_result"
    }
   ],
   "source": [
    "df"
   ]
  },
  {
   "cell_type": "markdown",
   "id": "d33dbb51",
   "metadata": {},
   "source": [
    "## 6 - Exportación de los datos"
   ]
  },
  {
   "cell_type": "code",
   "execution_count": 45,
   "id": "c8c6cd25",
   "metadata": {},
   "outputs": [],
   "source": [
    "df.to_csv(\"santanderScrap.csv\")"
   ]
  }
 ],
 "metadata": {
  "kernelspec": {
   "display_name": "Python 3 (ipykernel)",
   "language": "python",
   "name": "python3"
  },
  "language_info": {
   "codemirror_mode": {
    "name": "ipython",
    "version": 3
   },
   "file_extension": ".py",
   "mimetype": "text/x-python",
   "name": "python",
   "nbconvert_exporter": "python",
   "pygments_lexer": "ipython3",
   "version": "3.9.6"
  }
 },
 "nbformat": 4,
 "nbformat_minor": 5
}
