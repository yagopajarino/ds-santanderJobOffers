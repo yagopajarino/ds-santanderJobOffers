{
 "cells": [
  {
   "cell_type": "markdown",
   "id": "09a5ffb5",
   "metadata": {},
   "source": [
    "# Santander análisis de ofertas activas de trabajo"
   ]
  },
  {
   "cell_type": "markdown",
   "id": "480eed28",
   "metadata": {},
   "source": [
    "## 1 - Librerías y paquetes"
   ]
  },
  {
   "cell_type": "code",
   "execution_count": 85,
   "id": "2b7e6d2d",
   "metadata": {},
   "outputs": [],
   "source": [
    "import pandas as pd\n",
    "import calmap\n",
    "import matplotlib.pyplot as plt\n",
    "import seaborn as sns\n",
    "import numpy as np\n",
    "import datetime\n",
    "from dateutil.relativedelta import relativedelta\n",
    "from bokeh.io import show, output_file, output_notebook, export_png\n",
    "from bokeh.models import ColumnDataSource,Legend,LabelSet\n",
    "from bokeh.palettes import Spectral6,Category20c, OrRd, Reds\n",
    "from bokeh.plotting import figure\n",
    "from bokeh.transform import factor_cmap,cumsum"
   ]
  },
  {
   "cell_type": "code",
   "execution_count": 99,
   "id": "d5b21f95",
   "metadata": {},
   "outputs": [
    {
     "data": {
      "text/html": [
       "\n",
       "    <div class=\"bk-root\">\n",
       "        <a href=\"https://bokeh.org\" target=\"_blank\" class=\"bk-logo bk-logo-small bk-logo-notebook\"></a>\n",
       "        <span id=\"7673\">Loading BokehJS ...</span>\n",
       "    </div>"
      ]
     },
     "metadata": {},
     "output_type": "display_data"
    },
    {
     "data": {
      "application/javascript": [
       "\n",
       "(function(root) {\n",
       "  function now() {\n",
       "    return new Date();\n",
       "  }\n",
       "\n",
       "  const force = true;\n",
       "\n",
       "  if (typeof root._bokeh_onload_callbacks === \"undefined\" || force === true) {\n",
       "    root._bokeh_onload_callbacks = [];\n",
       "    root._bokeh_is_loading = undefined;\n",
       "  }\n",
       "\n",
       "  const JS_MIME_TYPE = 'application/javascript';\n",
       "  const HTML_MIME_TYPE = 'text/html';\n",
       "  const EXEC_MIME_TYPE = 'application/vnd.bokehjs_exec.v0+json';\n",
       "  const CLASS_NAME = 'output_bokeh rendered_html';\n",
       "\n",
       "  /**\n",
       "   * Render data to the DOM node\n",
       "   */\n",
       "  function render(props, node) {\n",
       "    const script = document.createElement(\"script\");\n",
       "    node.appendChild(script);\n",
       "  }\n",
       "\n",
       "  /**\n",
       "   * Handle when an output is cleared or removed\n",
       "   */\n",
       "  function handleClearOutput(event, handle) {\n",
       "    const cell = handle.cell;\n",
       "\n",
       "    const id = cell.output_area._bokeh_element_id;\n",
       "    const server_id = cell.output_area._bokeh_server_id;\n",
       "    // Clean up Bokeh references\n",
       "    if (id != null && id in Bokeh.index) {\n",
       "      Bokeh.index[id].model.document.clear();\n",
       "      delete Bokeh.index[id];\n",
       "    }\n",
       "\n",
       "    if (server_id !== undefined) {\n",
       "      // Clean up Bokeh references\n",
       "      const cmd_clean = \"from bokeh.io.state import curstate; print(curstate().uuid_to_server['\" + server_id + \"'].get_sessions()[0].document.roots[0]._id)\";\n",
       "      cell.notebook.kernel.execute(cmd_clean, {\n",
       "        iopub: {\n",
       "          output: function(msg) {\n",
       "            const id = msg.content.text.trim();\n",
       "            if (id in Bokeh.index) {\n",
       "              Bokeh.index[id].model.document.clear();\n",
       "              delete Bokeh.index[id];\n",
       "            }\n",
       "          }\n",
       "        }\n",
       "      });\n",
       "      // Destroy server and session\n",
       "      const cmd_destroy = \"import bokeh.io.notebook as ion; ion.destroy_server('\" + server_id + \"')\";\n",
       "      cell.notebook.kernel.execute(cmd_destroy);\n",
       "    }\n",
       "  }\n",
       "\n",
       "  /**\n",
       "   * Handle when a new output is added\n",
       "   */\n",
       "  function handleAddOutput(event, handle) {\n",
       "    const output_area = handle.output_area;\n",
       "    const output = handle.output;\n",
       "\n",
       "    // limit handleAddOutput to display_data with EXEC_MIME_TYPE content only\n",
       "    if ((output.output_type != \"display_data\") || (!Object.prototype.hasOwnProperty.call(output.data, EXEC_MIME_TYPE))) {\n",
       "      return\n",
       "    }\n",
       "\n",
       "    const toinsert = output_area.element.find(\".\" + CLASS_NAME.split(' ')[0]);\n",
       "\n",
       "    if (output.metadata[EXEC_MIME_TYPE][\"id\"] !== undefined) {\n",
       "      toinsert[toinsert.length - 1].firstChild.textContent = output.data[JS_MIME_TYPE];\n",
       "      // store reference to embed id on output_area\n",
       "      output_area._bokeh_element_id = output.metadata[EXEC_MIME_TYPE][\"id\"];\n",
       "    }\n",
       "    if (output.metadata[EXEC_MIME_TYPE][\"server_id\"] !== undefined) {\n",
       "      const bk_div = document.createElement(\"div\");\n",
       "      bk_div.innerHTML = output.data[HTML_MIME_TYPE];\n",
       "      const script_attrs = bk_div.children[0].attributes;\n",
       "      for (let i = 0; i < script_attrs.length; i++) {\n",
       "        toinsert[toinsert.length - 1].firstChild.setAttribute(script_attrs[i].name, script_attrs[i].value);\n",
       "        toinsert[toinsert.length - 1].firstChild.textContent = bk_div.children[0].textContent\n",
       "      }\n",
       "      // store reference to server id on output_area\n",
       "      output_area._bokeh_server_id = output.metadata[EXEC_MIME_TYPE][\"server_id\"];\n",
       "    }\n",
       "  }\n",
       "\n",
       "  function register_renderer(events, OutputArea) {\n",
       "\n",
       "    function append_mime(data, metadata, element) {\n",
       "      // create a DOM node to render to\n",
       "      const toinsert = this.create_output_subarea(\n",
       "        metadata,\n",
       "        CLASS_NAME,\n",
       "        EXEC_MIME_TYPE\n",
       "      );\n",
       "      this.keyboard_manager.register_events(toinsert);\n",
       "      // Render to node\n",
       "      const props = {data: data, metadata: metadata[EXEC_MIME_TYPE]};\n",
       "      render(props, toinsert[toinsert.length - 1]);\n",
       "      element.append(toinsert);\n",
       "      return toinsert\n",
       "    }\n",
       "\n",
       "    /* Handle when an output is cleared or removed */\n",
       "    events.on('clear_output.CodeCell', handleClearOutput);\n",
       "    events.on('delete.Cell', handleClearOutput);\n",
       "\n",
       "    /* Handle when a new output is added */\n",
       "    events.on('output_added.OutputArea', handleAddOutput);\n",
       "\n",
       "    /**\n",
       "     * Register the mime type and append_mime function with output_area\n",
       "     */\n",
       "    OutputArea.prototype.register_mime_type(EXEC_MIME_TYPE, append_mime, {\n",
       "      /* Is output safe? */\n",
       "      safe: true,\n",
       "      /* Index of renderer in `output_area.display_order` */\n",
       "      index: 0\n",
       "    });\n",
       "  }\n",
       "\n",
       "  // register the mime type if in Jupyter Notebook environment and previously unregistered\n",
       "  if (root.Jupyter !== undefined) {\n",
       "    const events = require('base/js/events');\n",
       "    const OutputArea = require('notebook/js/outputarea').OutputArea;\n",
       "\n",
       "    if (OutputArea.prototype.mime_types().indexOf(EXEC_MIME_TYPE) == -1) {\n",
       "      register_renderer(events, OutputArea);\n",
       "    }\n",
       "  }\n",
       "\n",
       "  \n",
       "  if (typeof (root._bokeh_timeout) === \"undefined\" || force === true) {\n",
       "    root._bokeh_timeout = Date.now() + 5000;\n",
       "    root._bokeh_failed_load = false;\n",
       "  }\n",
       "\n",
       "  const NB_LOAD_WARNING = {'data': {'text/html':\n",
       "     \"<div style='background-color: #fdd'>\\n\"+\n",
       "     \"<p>\\n\"+\n",
       "     \"BokehJS does not appear to have successfully loaded. If loading BokehJS from CDN, this \\n\"+\n",
       "     \"may be due to a slow or bad network connection. Possible fixes:\\n\"+\n",
       "     \"</p>\\n\"+\n",
       "     \"<ul>\\n\"+\n",
       "     \"<li>re-rerun `output_notebook()` to attempt to load from CDN again, or</li>\\n\"+\n",
       "     \"<li>use INLINE resources instead, as so:</li>\\n\"+\n",
       "     \"</ul>\\n\"+\n",
       "     \"<code>\\n\"+\n",
       "     \"from bokeh.resources import INLINE\\n\"+\n",
       "     \"output_notebook(resources=INLINE)\\n\"+\n",
       "     \"</code>\\n\"+\n",
       "     \"</div>\"}};\n",
       "\n",
       "  function display_loaded() {\n",
       "    const el = document.getElementById(\"7673\");\n",
       "    if (el != null) {\n",
       "      el.textContent = \"BokehJS is loading...\";\n",
       "    }\n",
       "    if (root.Bokeh !== undefined) {\n",
       "      if (el != null) {\n",
       "        el.textContent = \"BokehJS \" + root.Bokeh.version + \" successfully loaded.\";\n",
       "      }\n",
       "    } else if (Date.now() < root._bokeh_timeout) {\n",
       "      setTimeout(display_loaded, 100)\n",
       "    }\n",
       "  }\n",
       "\n",
       "\n",
       "  function run_callbacks() {\n",
       "    try {\n",
       "      root._bokeh_onload_callbacks.forEach(function(callback) {\n",
       "        if (callback != null)\n",
       "          callback();\n",
       "      });\n",
       "    } finally {\n",
       "      delete root._bokeh_onload_callbacks\n",
       "    }\n",
       "    console.debug(\"Bokeh: all callbacks have finished\");\n",
       "  }\n",
       "\n",
       "  function load_libs(css_urls, js_urls, callback) {\n",
       "    if (css_urls == null) css_urls = [];\n",
       "    if (js_urls == null) js_urls = [];\n",
       "\n",
       "    root._bokeh_onload_callbacks.push(callback);\n",
       "    if (root._bokeh_is_loading > 0) {\n",
       "      console.debug(\"Bokeh: BokehJS is being loaded, scheduling callback at\", now());\n",
       "      return null;\n",
       "    }\n",
       "    if (js_urls == null || js_urls.length === 0) {\n",
       "      run_callbacks();\n",
       "      return null;\n",
       "    }\n",
       "    console.debug(\"Bokeh: BokehJS not loaded, scheduling load and callback at\", now());\n",
       "    root._bokeh_is_loading = css_urls.length + js_urls.length;\n",
       "\n",
       "    function on_load() {\n",
       "      root._bokeh_is_loading--;\n",
       "      if (root._bokeh_is_loading === 0) {\n",
       "        console.debug(\"Bokeh: all BokehJS libraries/stylesheets loaded\");\n",
       "        run_callbacks()\n",
       "      }\n",
       "    }\n",
       "\n",
       "    function on_error(url) {\n",
       "      console.error(\"failed to load \" + url);\n",
       "    }\n",
       "\n",
       "    for (let i = 0; i < css_urls.length; i++) {\n",
       "      const url = css_urls[i];\n",
       "      const element = document.createElement(\"link\");\n",
       "      element.onload = on_load;\n",
       "      element.onerror = on_error.bind(null, url);\n",
       "      element.rel = \"stylesheet\";\n",
       "      element.type = \"text/css\";\n",
       "      element.href = url;\n",
       "      console.debug(\"Bokeh: injecting link tag for BokehJS stylesheet: \", url);\n",
       "      document.body.appendChild(element);\n",
       "    }\n",
       "\n",
       "    for (let i = 0; i < js_urls.length; i++) {\n",
       "      const url = js_urls[i];\n",
       "      const element = document.createElement('script');\n",
       "      element.onload = on_load;\n",
       "      element.onerror = on_error.bind(null, url);\n",
       "      element.async = false;\n",
       "      element.src = url;\n",
       "      console.debug(\"Bokeh: injecting script tag for BokehJS library: \", url);\n",
       "      document.head.appendChild(element);\n",
       "    }\n",
       "  };\n",
       "\n",
       "  function inject_raw_css(css) {\n",
       "    const element = document.createElement(\"style\");\n",
       "    element.appendChild(document.createTextNode(css));\n",
       "    document.body.appendChild(element);\n",
       "  }\n",
       "\n",
       "  \n",
       "  const js_urls = [\"https://cdn.bokeh.org/bokeh/release/bokeh-2.4.2.min.js\", \"https://cdn.bokeh.org/bokeh/release/bokeh-gl-2.4.2.min.js\", \"https://cdn.bokeh.org/bokeh/release/bokeh-widgets-2.4.2.min.js\", \"https://cdn.bokeh.org/bokeh/release/bokeh-tables-2.4.2.min.js\", \"https://cdn.bokeh.org/bokeh/release/bokeh-mathjax-2.4.2.min.js\"];\n",
       "  const css_urls = [];\n",
       "  \n",
       "\n",
       "  const inline_js = [\n",
       "    function(Bokeh) {\n",
       "      Bokeh.set_log_level(\"info\");\n",
       "    },\n",
       "    function(Bokeh) {\n",
       "    \n",
       "    \n",
       "    }\n",
       "  ];\n",
       "\n",
       "  function run_inline_js() {\n",
       "    \n",
       "    if (root.Bokeh !== undefined || force === true) {\n",
       "      \n",
       "    for (let i = 0; i < inline_js.length; i++) {\n",
       "      inline_js[i].call(root, root.Bokeh);\n",
       "    }\n",
       "    if (force === true) {\n",
       "        display_loaded();\n",
       "      }} else if (Date.now() < root._bokeh_timeout) {\n",
       "      setTimeout(run_inline_js, 100);\n",
       "    } else if (!root._bokeh_failed_load) {\n",
       "      console.log(\"Bokeh: BokehJS failed to load within specified timeout.\");\n",
       "      root._bokeh_failed_load = true;\n",
       "    } else if (force !== true) {\n",
       "      const cell = $(document.getElementById(\"7673\")).parents('.cell').data().cell;\n",
       "      cell.output_area.append_execute_result(NB_LOAD_WARNING)\n",
       "    }\n",
       "\n",
       "  }\n",
       "\n",
       "  if (root._bokeh_is_loading === 0) {\n",
       "    console.debug(\"Bokeh: BokehJS loaded, going straight to plotting\");\n",
       "    run_inline_js();\n",
       "  } else {\n",
       "    load_libs(css_urls, js_urls, function() {\n",
       "      console.debug(\"Bokeh: BokehJS plotting callback run at\", now());\n",
       "      run_inline_js();\n",
       "    });\n",
       "  }\n",
       "}(window));"
      ],
      "application/vnd.bokehjs_load.v0+json": "\n(function(root) {\n  function now() {\n    return new Date();\n  }\n\n  const force = true;\n\n  if (typeof root._bokeh_onload_callbacks === \"undefined\" || force === true) {\n    root._bokeh_onload_callbacks = [];\n    root._bokeh_is_loading = undefined;\n  }\n\n  \n\n  \n  if (typeof (root._bokeh_timeout) === \"undefined\" || force === true) {\n    root._bokeh_timeout = Date.now() + 5000;\n    root._bokeh_failed_load = false;\n  }\n\n  const NB_LOAD_WARNING = {'data': {'text/html':\n     \"<div style='background-color: #fdd'>\\n\"+\n     \"<p>\\n\"+\n     \"BokehJS does not appear to have successfully loaded. If loading BokehJS from CDN, this \\n\"+\n     \"may be due to a slow or bad network connection. Possible fixes:\\n\"+\n     \"</p>\\n\"+\n     \"<ul>\\n\"+\n     \"<li>re-rerun `output_notebook()` to attempt to load from CDN again, or</li>\\n\"+\n     \"<li>use INLINE resources instead, as so:</li>\\n\"+\n     \"</ul>\\n\"+\n     \"<code>\\n\"+\n     \"from bokeh.resources import INLINE\\n\"+\n     \"output_notebook(resources=INLINE)\\n\"+\n     \"</code>\\n\"+\n     \"</div>\"}};\n\n  function display_loaded() {\n    const el = document.getElementById(\"7673\");\n    if (el != null) {\n      el.textContent = \"BokehJS is loading...\";\n    }\n    if (root.Bokeh !== undefined) {\n      if (el != null) {\n        el.textContent = \"BokehJS \" + root.Bokeh.version + \" successfully loaded.\";\n      }\n    } else if (Date.now() < root._bokeh_timeout) {\n      setTimeout(display_loaded, 100)\n    }\n  }\n\n\n  function run_callbacks() {\n    try {\n      root._bokeh_onload_callbacks.forEach(function(callback) {\n        if (callback != null)\n          callback();\n      });\n    } finally {\n      delete root._bokeh_onload_callbacks\n    }\n    console.debug(\"Bokeh: all callbacks have finished\");\n  }\n\n  function load_libs(css_urls, js_urls, callback) {\n    if (css_urls == null) css_urls = [];\n    if (js_urls == null) js_urls = [];\n\n    root._bokeh_onload_callbacks.push(callback);\n    if (root._bokeh_is_loading > 0) {\n      console.debug(\"Bokeh: BokehJS is being loaded, scheduling callback at\", now());\n      return null;\n    }\n    if (js_urls == null || js_urls.length === 0) {\n      run_callbacks();\n      return null;\n    }\n    console.debug(\"Bokeh: BokehJS not loaded, scheduling load and callback at\", now());\n    root._bokeh_is_loading = css_urls.length + js_urls.length;\n\n    function on_load() {\n      root._bokeh_is_loading--;\n      if (root._bokeh_is_loading === 0) {\n        console.debug(\"Bokeh: all BokehJS libraries/stylesheets loaded\");\n        run_callbacks()\n      }\n    }\n\n    function on_error(url) {\n      console.error(\"failed to load \" + url);\n    }\n\n    for (let i = 0; i < css_urls.length; i++) {\n      const url = css_urls[i];\n      const element = document.createElement(\"link\");\n      element.onload = on_load;\n      element.onerror = on_error.bind(null, url);\n      element.rel = \"stylesheet\";\n      element.type = \"text/css\";\n      element.href = url;\n      console.debug(\"Bokeh: injecting link tag for BokehJS stylesheet: \", url);\n      document.body.appendChild(element);\n    }\n\n    for (let i = 0; i < js_urls.length; i++) {\n      const url = js_urls[i];\n      const element = document.createElement('script');\n      element.onload = on_load;\n      element.onerror = on_error.bind(null, url);\n      element.async = false;\n      element.src = url;\n      console.debug(\"Bokeh: injecting script tag for BokehJS library: \", url);\n      document.head.appendChild(element);\n    }\n  };\n\n  function inject_raw_css(css) {\n    const element = document.createElement(\"style\");\n    element.appendChild(document.createTextNode(css));\n    document.body.appendChild(element);\n  }\n\n  \n  const js_urls = [\"https://cdn.bokeh.org/bokeh/release/bokeh-2.4.2.min.js\", \"https://cdn.bokeh.org/bokeh/release/bokeh-gl-2.4.2.min.js\", \"https://cdn.bokeh.org/bokeh/release/bokeh-widgets-2.4.2.min.js\", \"https://cdn.bokeh.org/bokeh/release/bokeh-tables-2.4.2.min.js\", \"https://cdn.bokeh.org/bokeh/release/bokeh-mathjax-2.4.2.min.js\"];\n  const css_urls = [];\n  \n\n  const inline_js = [\n    function(Bokeh) {\n      Bokeh.set_log_level(\"info\");\n    },\n    function(Bokeh) {\n    \n    \n    }\n  ];\n\n  function run_inline_js() {\n    \n    if (root.Bokeh !== undefined || force === true) {\n      \n    for (let i = 0; i < inline_js.length; i++) {\n      inline_js[i].call(root, root.Bokeh);\n    }\n    if (force === true) {\n        display_loaded();\n      }} else if (Date.now() < root._bokeh_timeout) {\n      setTimeout(run_inline_js, 100);\n    } else if (!root._bokeh_failed_load) {\n      console.log(\"Bokeh: BokehJS failed to load within specified timeout.\");\n      root._bokeh_failed_load = true;\n    } else if (force !== true) {\n      const cell = $(document.getElementById(\"7673\")).parents('.cell').data().cell;\n      cell.output_area.append_execute_result(NB_LOAD_WARNING)\n    }\n\n  }\n\n  if (root._bokeh_is_loading === 0) {\n    console.debug(\"Bokeh: BokehJS loaded, going straight to plotting\");\n    run_inline_js();\n  } else {\n    load_libs(css_urls, js_urls, function() {\n      console.debug(\"Bokeh: BokehJS plotting callback run at\", now());\n      run_inline_js();\n    });\n  }\n}(window));"
     },
     "metadata": {},
     "output_type": "display_data"
    }
   ],
   "source": [
    "%matplotlib inline\n",
    "output_notebook()"
   ]
  },
  {
   "cell_type": "markdown",
   "id": "2ce06f9c",
   "metadata": {},
   "source": [
    "## 2 - Lectura de datos e inspección inicial"
   ]
  },
  {
   "cell_type": "code",
   "execution_count": 25,
   "id": "e04ffbfb",
   "metadata": {},
   "outputs": [],
   "source": [
    "df = pd.read_csv(\"./santanderScrap.csv\", index_col=0, parse_dates=[\"PUBLICACIÓN\"])"
   ]
  },
  {
   "cell_type": "code",
   "execution_count": 26,
   "id": "4cfdb2c9",
   "metadata": {},
   "outputs": [
    {
     "data": {
      "text/html": [
       "<div>\n",
       "<style scoped>\n",
       "    .dataframe tbody tr th:only-of-type {\n",
       "        vertical-align: middle;\n",
       "    }\n",
       "\n",
       "    .dataframe tbody tr th {\n",
       "        vertical-align: top;\n",
       "    }\n",
       "\n",
       "    .dataframe thead th {\n",
       "        text-align: right;\n",
       "    }\n",
       "</style>\n",
       "<table border=\"1\" class=\"dataframe\">\n",
       "  <thead>\n",
       "    <tr style=\"text-align: right;\">\n",
       "      <th></th>\n",
       "      <th>Lugar</th>\n",
       "      <th>Categoría</th>\n",
       "      <th>PUBLICACIÓN</th>\n",
       "      <th>ID Puesto</th>\n",
       "    </tr>\n",
       "  </thead>\n",
       "  <tbody>\n",
       "    <tr>\n",
       "      <th>0</th>\n",
       "      <td>São Paulo, Brasil</td>\n",
       "      <td>Product &amp; Service Value Proposition Management...</td>\n",
       "      <td>2022-03-09</td>\n",
       "      <td>Req0934931</td>\n",
       "    </tr>\n",
       "    <tr>\n",
       "      <th>1</th>\n",
       "      <td>Sheffield, Reino Unido</td>\n",
       "      <td>Customer S&amp;S: Remote (NEW)</td>\n",
       "      <td>2022-02-16</td>\n",
       "      <td>Req0927008</td>\n",
       "    </tr>\n",
       "    <tr>\n",
       "      <th>2</th>\n",
       "      <td>Milton Keynes, Reino Unido</td>\n",
       "      <td>Customer S&amp;S: Remote (NEW)</td>\n",
       "      <td>2022-01-20</td>\n",
       "      <td>Req0915544</td>\n",
       "    </tr>\n",
       "    <tr>\n",
       "      <th>3</th>\n",
       "      <td>Bootle, Reino Unido</td>\n",
       "      <td>Customer S&amp;S: Remote (NEW)</td>\n",
       "      <td>2021-12-07</td>\n",
       "      <td>Req0900646</td>\n",
       "    </tr>\n",
       "    <tr>\n",
       "      <th>4</th>\n",
       "      <td>Madrid, España</td>\n",
       "      <td>Project, Product Management</td>\n",
       "      <td>2022-03-10</td>\n",
       "      <td>Req0935337</td>\n",
       "    </tr>\n",
       "  </tbody>\n",
       "</table>\n",
       "</div>"
      ],
      "text/plain": [
       "                        Lugar  \\\n",
       "0           São Paulo, Brasil   \n",
       "1      Sheffield, Reino Unido   \n",
       "2  Milton Keynes, Reino Unido   \n",
       "3         Bootle, Reino Unido   \n",
       "4              Madrid, España   \n",
       "\n",
       "                                           Categoría PUBLICACIÓN   ID Puesto  \n",
       "0  Product & Service Value Proposition Management...  2022-03-09  Req0934931  \n",
       "1                         Customer S&S: Remote (NEW)  2022-02-16  Req0927008  \n",
       "2                         Customer S&S: Remote (NEW)  2022-01-20  Req0915544  \n",
       "3                         Customer S&S: Remote (NEW)  2021-12-07  Req0900646  \n",
       "4                        Project, Product Management  2022-03-10  Req0935337  "
      ]
     },
     "execution_count": 26,
     "metadata": {},
     "output_type": "execute_result"
    }
   ],
   "source": [
    "df.head()"
   ]
  },
  {
   "cell_type": "code",
   "execution_count": 27,
   "id": "e11250cc",
   "metadata": {},
   "outputs": [
    {
     "name": "stdout",
     "output_type": "stream",
     "text": [
      "<class 'pandas.core.frame.DataFrame'>\n",
      "Int64Index: 2912 entries, 0 to 2911\n",
      "Data columns (total 4 columns):\n",
      " #   Column       Non-Null Count  Dtype         \n",
      "---  ------       --------------  -----         \n",
      " 0   Lugar        2912 non-null   object        \n",
      " 1   Categoría    2912 non-null   object        \n",
      " 2   PUBLICACIÓN  2912 non-null   datetime64[ns]\n",
      " 3   ID Puesto    2912 non-null   object        \n",
      "dtypes: datetime64[ns](1), object(3)\n",
      "memory usage: 113.8+ KB\n"
     ]
    }
   ],
   "source": [
    "df.info()"
   ]
  },
  {
   "cell_type": "code",
   "execution_count": 28,
   "id": "375fef85",
   "metadata": {},
   "outputs": [
    {
     "name": "stderr",
     "output_type": "stream",
     "text": [
      "/var/folders/f0/53n8wsk15q5fyyyk0xbqk6840000gn/T/ipykernel_3103/3627053830.py:1: FutureWarning: Treating datetime data as categorical rather than numeric in `.describe` is deprecated and will be removed in a future version of pandas. Specify `datetime_is_numeric=True` to silence this warning and adopt the future behavior now.\n",
      "  df.describe()\n"
     ]
    },
    {
     "data": {
      "text/html": [
       "<div>\n",
       "<style scoped>\n",
       "    .dataframe tbody tr th:only-of-type {\n",
       "        vertical-align: middle;\n",
       "    }\n",
       "\n",
       "    .dataframe tbody tr th {\n",
       "        vertical-align: top;\n",
       "    }\n",
       "\n",
       "    .dataframe thead th {\n",
       "        text-align: right;\n",
       "    }\n",
       "</style>\n",
       "<table border=\"1\" class=\"dataframe\">\n",
       "  <thead>\n",
       "    <tr style=\"text-align: right;\">\n",
       "      <th></th>\n",
       "      <th>Lugar</th>\n",
       "      <th>Categoría</th>\n",
       "      <th>PUBLICACIÓN</th>\n",
       "      <th>ID Puesto</th>\n",
       "    </tr>\n",
       "  </thead>\n",
       "  <tbody>\n",
       "    <tr>\n",
       "      <th>count</th>\n",
       "      <td>2912</td>\n",
       "      <td>2912</td>\n",
       "      <td>2912</td>\n",
       "      <td>2912</td>\n",
       "    </tr>\n",
       "    <tr>\n",
       "      <th>unique</th>\n",
       "      <td>631</td>\n",
       "      <td>98</td>\n",
       "      <td>227</td>\n",
       "      <td>2912</td>\n",
       "    </tr>\n",
       "    <tr>\n",
       "      <th>top</th>\n",
       "      <td>Ciudad de México, México</td>\n",
       "      <td>Customer S&amp;S: F2F (NEW)</td>\n",
       "      <td>2022-03-03 00:00:00</td>\n",
       "      <td>Req0934931</td>\n",
       "    </tr>\n",
       "    <tr>\n",
       "      <th>freq</th>\n",
       "      <td>219</td>\n",
       "      <td>571</td>\n",
       "      <td>79</td>\n",
       "      <td>1</td>\n",
       "    </tr>\n",
       "    <tr>\n",
       "      <th>first</th>\n",
       "      <td>NaN</td>\n",
       "      <td>NaN</td>\n",
       "      <td>1900-01-01 00:00:00</td>\n",
       "      <td>NaN</td>\n",
       "    </tr>\n",
       "    <tr>\n",
       "      <th>last</th>\n",
       "      <td>NaN</td>\n",
       "      <td>NaN</td>\n",
       "      <td>2022-03-10 00:00:00</td>\n",
       "      <td>NaN</td>\n",
       "    </tr>\n",
       "  </tbody>\n",
       "</table>\n",
       "</div>"
      ],
      "text/plain": [
       "                           Lugar                Categoría  \\\n",
       "count                       2912                     2912   \n",
       "unique                       631                       98   \n",
       "top     Ciudad de México, México  Customer S&S: F2F (NEW)   \n",
       "freq                         219                      571   \n",
       "first                        NaN                      NaN   \n",
       "last                         NaN                      NaN   \n",
       "\n",
       "                PUBLICACIÓN   ID Puesto  \n",
       "count                  2912        2912  \n",
       "unique                  227        2912  \n",
       "top     2022-03-03 00:00:00  Req0934931  \n",
       "freq                     79           1  \n",
       "first   1900-01-01 00:00:00         NaN  \n",
       "last    2022-03-10 00:00:00         NaN  "
      ]
     },
     "execution_count": 28,
     "metadata": {},
     "output_type": "execute_result"
    }
   ],
   "source": [
    "df.describe()"
   ]
  },
  {
   "cell_type": "markdown",
   "id": "a0208195",
   "metadata": {},
   "source": [
    "## 3 - Limpieza datos\n",
    "\n",
    "Me quedo con las publicaciones de 2021 y 2022."
   ]
  },
  {
   "cell_type": "code",
   "execution_count": 29,
   "id": "a2c0dc4a",
   "metadata": {},
   "outputs": [
    {
     "data": {
      "image/png": "[encoded data removed]",
      "text/plain": [
       "<Figure size 432x288 with 1 Axes>"
      ]
     },
     "metadata": {
      "needs_background": "light"
     },
     "output_type": "display_data"
    }
   ],
   "source": [
    "plt.hist(df[\"PUBLICACIÓN\"], orientation=\"horizontal\")\n",
    "plt.show()"
   ]
  },
  {
   "cell_type": "code",
   "execution_count": 30,
   "id": "ddf4db66",
   "metadata": {},
   "outputs": [
    {
     "data": {
      "text/plain": [
       "31     1900-01-01\n",
       "751    1900-01-01\n",
       "1685   2019-12-13\n",
       "2581   2020-01-20\n",
       "2798   2020-01-21\n",
       "          ...    \n",
       "13     2022-03-10\n",
       "60     2022-03-10\n",
       "59     2022-03-10\n",
       "8      2022-03-10\n",
       "57     2022-03-10\n",
       "Name: PUBLICACIÓN, Length: 2912, dtype: datetime64[ns]"
      ]
     },
     "execution_count": 30,
     "metadata": {},
     "output_type": "execute_result"
    }
   ],
   "source": [
    "df[\"PUBLICACIÓN\"].sort_values()"
   ]
  },
  {
   "cell_type": "markdown",
   "id": "97e8c525",
   "metadata": {},
   "source": [
    "Hay dos publicaciones de 1900... Las vemos"
   ]
  },
  {
   "cell_type": "code",
   "execution_count": 31,
   "id": "20dfa361",
   "metadata": {},
   "outputs": [
    {
     "data": {
      "text/html": [
       "<div>\n",
       "<style scoped>\n",
       "    .dataframe tbody tr th:only-of-type {\n",
       "        vertical-align: middle;\n",
       "    }\n",
       "\n",
       "    .dataframe tbody tr th {\n",
       "        vertical-align: top;\n",
       "    }\n",
       "\n",
       "    .dataframe thead th {\n",
       "        text-align: right;\n",
       "    }\n",
       "</style>\n",
       "<table border=\"1\" class=\"dataframe\">\n",
       "  <thead>\n",
       "    <tr style=\"text-align: right;\">\n",
       "      <th></th>\n",
       "      <th>Lugar</th>\n",
       "      <th>Categoría</th>\n",
       "      <th>PUBLICACIÓN</th>\n",
       "      <th>ID Puesto</th>\n",
       "    </tr>\n",
       "  </thead>\n",
       "  <tbody>\n",
       "    <tr>\n",
       "      <th>31</th>\n",
       "      <td>East Providence, Estados Unidos</td>\n",
       "      <td>Recovery &amp; Collections (NEW)</td>\n",
       "      <td>1900-01-01</td>\n",
       "      <td>Req0923582</td>\n",
       "    </tr>\n",
       "    <tr>\n",
       "      <th>751</th>\n",
       "      <td>Framingham, Estados Unidos</td>\n",
       "      <td>Operations (NEW)</td>\n",
       "      <td>1900-01-01</td>\n",
       "      <td>Req0928390</td>\n",
       "    </tr>\n",
       "    <tr>\n",
       "      <th>1435</th>\n",
       "      <td>Suhl, Alemania</td>\n",
       "      <td>Customer S&amp;S: F2F (NEW)</td>\n",
       "      <td>2020-02-21</td>\n",
       "      <td>Req0914424</td>\n",
       "    </tr>\n",
       "    <tr>\n",
       "      <th>1685</th>\n",
       "      <td>, Alemania</td>\n",
       "      <td>Customer S&amp;S: F2F (NEW)</td>\n",
       "      <td>2019-12-13</td>\n",
       "      <td>Req0902990</td>\n",
       "    </tr>\n",
       "    <tr>\n",
       "      <th>2136</th>\n",
       "      <td>Chalco, México</td>\n",
       "      <td>Strategy &amp; Corporate Development (NEW)</td>\n",
       "      <td>2020-11-25</td>\n",
       "      <td>Req0770855</td>\n",
       "    </tr>\n",
       "    <tr>\n",
       "      <th>2581</th>\n",
       "      <td>San Miguel de Allende, México</td>\n",
       "      <td>Strategy &amp; Corporate Development (NEW)</td>\n",
       "      <td>2020-01-20</td>\n",
       "      <td>Req0725625</td>\n",
       "    </tr>\n",
       "    <tr>\n",
       "      <th>2636</th>\n",
       "      <td>Ciudad de México, México</td>\n",
       "      <td>Properties &amp; Gral. Services (NEW)</td>\n",
       "      <td>2020-12-17</td>\n",
       "      <td>Req0779983</td>\n",
       "    </tr>\n",
       "    <tr>\n",
       "      <th>2637</th>\n",
       "      <td>Ciudad de México, México</td>\n",
       "      <td>Legal (NEW)</td>\n",
       "      <td>2020-09-09</td>\n",
       "      <td>Req0750962</td>\n",
       "    </tr>\n",
       "    <tr>\n",
       "      <th>2638</th>\n",
       "      <td>Ciudad de México, México</td>\n",
       "      <td>Customer S&amp;S: Remote (NEW)</td>\n",
       "      <td>2020-09-24</td>\n",
       "      <td>Req0752952</td>\n",
       "    </tr>\n",
       "    <tr>\n",
       "      <th>2639</th>\n",
       "      <td>, México</td>\n",
       "      <td>Strategy &amp; Corporate Development (NEW)</td>\n",
       "      <td>2020-10-02</td>\n",
       "      <td>Req0752045</td>\n",
       "    </tr>\n",
       "    <tr>\n",
       "      <th>2640</th>\n",
       "      <td>Juárez, México</td>\n",
       "      <td>Customer S&amp;S: F2F (NEW)</td>\n",
       "      <td>2020-08-06</td>\n",
       "      <td>Req0743648</td>\n",
       "    </tr>\n",
       "    <tr>\n",
       "      <th>2641</th>\n",
       "      <td>Comitán, México</td>\n",
       "      <td>Strategy &amp; Corporate Development (NEW)</td>\n",
       "      <td>2020-04-22</td>\n",
       "      <td>Req0733925</td>\n",
       "    </tr>\n",
       "    <tr>\n",
       "      <th>2782</th>\n",
       "      <td>Ocotlán, México</td>\n",
       "      <td>Strategy &amp; Corporate Development (NEW)</td>\n",
       "      <td>2020-02-07</td>\n",
       "      <td>Req0727474</td>\n",
       "    </tr>\n",
       "    <tr>\n",
       "      <th>2798</th>\n",
       "      <td>Tizayuca, México</td>\n",
       "      <td>Strategy &amp; Corporate Development (NEW)</td>\n",
       "      <td>2020-01-21</td>\n",
       "      <td>Req0725800</td>\n",
       "    </tr>\n",
       "    <tr>\n",
       "      <th>2862</th>\n",
       "      <td>, México</td>\n",
       "      <td>Strategy &amp; Corporate Development (NEW)</td>\n",
       "      <td>2020-02-12</td>\n",
       "      <td>Req0727963</td>\n",
       "    </tr>\n",
       "    <tr>\n",
       "      <th>2907</th>\n",
       "      <td>Naucalpan de Juárez, México</td>\n",
       "      <td>Strategy &amp; Corporate Development (NEW)</td>\n",
       "      <td>2020-02-12</td>\n",
       "      <td>Req0727970</td>\n",
       "    </tr>\n",
       "    <tr>\n",
       "      <th>2909</th>\n",
       "      <td>Campeche, México</td>\n",
       "      <td>Customer S&amp;S: F2F (NEW)</td>\n",
       "      <td>2020-02-26</td>\n",
       "      <td>Req0729542</td>\n",
       "    </tr>\n",
       "    <tr>\n",
       "      <th>2911</th>\n",
       "      <td>Sahuayo de Morelos, México</td>\n",
       "      <td>Strategy &amp; Corporate Development (NEW)</td>\n",
       "      <td>2020-01-28</td>\n",
       "      <td>Req0726636</td>\n",
       "    </tr>\n",
       "  </tbody>\n",
       "</table>\n",
       "</div>"
      ],
      "text/plain": [
       "                                Lugar                               Categoría  \\\n",
       "31    East Providence, Estados Unidos            Recovery & Collections (NEW)   \n",
       "751        Framingham, Estados Unidos                        Operations (NEW)   \n",
       "1435                   Suhl, Alemania                 Customer S&S: F2F (NEW)   \n",
       "1685                       , Alemania                 Customer S&S: F2F (NEW)   \n",
       "2136                   Chalco, México  Strategy & Corporate Development (NEW)   \n",
       "2581    San Miguel de Allende, México  Strategy & Corporate Development (NEW)   \n",
       "2636         Ciudad de México, México       Properties & Gral. Services (NEW)   \n",
       "2637         Ciudad de México, México                             Legal (NEW)   \n",
       "2638         Ciudad de México, México              Customer S&S: Remote (NEW)   \n",
       "2639                         , México  Strategy & Corporate Development (NEW)   \n",
       "2640                   Juárez, México                 Customer S&S: F2F (NEW)   \n",
       "2641                  Comitán, México  Strategy & Corporate Development (NEW)   \n",
       "2782                  Ocotlán, México  Strategy & Corporate Development (NEW)   \n",
       "2798                 Tizayuca, México  Strategy & Corporate Development (NEW)   \n",
       "2862                         , México  Strategy & Corporate Development (NEW)   \n",
       "2907      Naucalpan de Juárez, México  Strategy & Corporate Development (NEW)   \n",
       "2909                 Campeche, México                 Customer S&S: F2F (NEW)   \n",
       "2911       Sahuayo de Morelos, México  Strategy & Corporate Development (NEW)   \n",
       "\n",
       "     PUBLICACIÓN   ID Puesto  \n",
       "31    1900-01-01  Req0923582  \n",
       "751   1900-01-01  Req0928390  \n",
       "1435  2020-02-21  Req0914424  \n",
       "1685  2019-12-13  Req0902990  \n",
       "2136  2020-11-25  Req0770855  \n",
       "2581  2020-01-20  Req0725625  \n",
       "2636  2020-12-17  Req0779983  \n",
       "2637  2020-09-09  Req0750962  \n",
       "2638  2020-09-24  Req0752952  \n",
       "2639  2020-10-02  Req0752045  \n",
       "2640  2020-08-06  Req0743648  \n",
       "2641  2020-04-22  Req0733925  \n",
       "2782  2020-02-07  Req0727474  \n",
       "2798  2020-01-21  Req0725800  \n",
       "2862  2020-02-12  Req0727963  \n",
       "2907  2020-02-12  Req0727970  \n",
       "2909  2020-02-26  Req0729542  \n",
       "2911  2020-01-28  Req0726636  "
      ]
     },
     "execution_count": 31,
     "metadata": {},
     "output_type": "execute_result"
    }
   ],
   "source": [
    "p0 = df.loc[df[\"PUBLICACIÓN\"].dt.year.isin([1900,2019,2020]),:]\n",
    "p0"
   ]
  },
  {
   "cell_type": "markdown",
   "id": "751ec475",
   "metadata": {},
   "source": [
    "Las borramos del set"
   ]
  },
  {
   "cell_type": "code",
   "execution_count": 32,
   "id": "915eb3be",
   "metadata": {},
   "outputs": [],
   "source": [
    "df.drop(index=p0.index, inplace=True)"
   ]
  },
  {
   "cell_type": "code",
   "execution_count": 33,
   "id": "5c3e140d",
   "metadata": {},
   "outputs": [
    {
     "data": {
      "text/plain": [
       "(2894, 4)"
      ]
     },
     "execution_count": 33,
     "metadata": {},
     "output_type": "execute_result"
    }
   ],
   "source": [
    "df.shape"
   ]
  },
  {
   "cell_type": "markdown",
   "id": "1af5ad86",
   "metadata": {},
   "source": [
    "Borramos $2912 - 2894 = 18$ datos"
   ]
  },
  {
   "cell_type": "markdown",
   "id": "2b7a900a",
   "metadata": {},
   "source": [
    "## 4 - Generación de columna país"
   ]
  },
  {
   "cell_type": "code",
   "execution_count": 34,
   "id": "42ed1764",
   "metadata": {},
   "outputs": [],
   "source": [
    "df[\"ciudad\"] = df.Lugar.str.split(\",\").apply(lambda x: x[0])"
   ]
  },
  {
   "cell_type": "code",
   "execution_count": 35,
   "id": "e76bc709",
   "metadata": {},
   "outputs": [],
   "source": [
    "df[\"pais\"] = df.Lugar.str.split(\",\").apply(lambda x: x[1])"
   ]
  },
  {
   "cell_type": "code",
   "execution_count": 36,
   "id": "c1e3e43a",
   "metadata": {},
   "outputs": [
    {
     "data": {
      "text/plain": [
       " México            684\n",
       " Estados Unidos    660\n",
       " Alemania          344\n",
       " España            304\n",
       " Reino Unido       297\n",
       " Polonia           280\n",
       " Brasil            169\n",
       " Chile              53\n",
       " Argentina          30\n",
       " Austria            24\n",
       " Portugal           17\n",
       " Italia             12\n",
       " Holanda             8\n",
       " Ucrania             7\n",
       " Uruguay             2\n",
       " Bolivia             1\n",
       " Francia             1\n",
       " Suiza               1\n",
       "Name: pais, dtype: int64"
      ]
     },
     "execution_count": 36,
     "metadata": {},
     "output_type": "execute_result"
    }
   ],
   "source": [
    "df.pais.value_counts(dropna=False)"
   ]
  },
  {
   "cell_type": "markdown",
   "id": "3d708846",
   "metadata": {},
   "source": [
    "## 5 - Visualizaciones"
   ]
  },
  {
   "cell_type": "markdown",
   "id": "6397381c",
   "metadata": {},
   "source": [
    "### 5.1 - Fecha de publicación"
   ]
  },
  {
   "cell_type": "code",
   "execution_count": 37,
   "id": "af4cccd2",
   "metadata": {},
   "outputs": [],
   "source": [
    "s = df.groupby(\"PUBLICACIÓN\")[\"Lugar\"].count()"
   ]
  },
  {
   "cell_type": "code",
   "execution_count": 38,
   "id": "36428d67",
   "metadata": {
    "scrolled": false
   },
   "outputs": [
    {
     "data": {
      "image/png": "[encoded data removed]",
      "text/plain": [
       "<Figure size 1440x1440 with 1 Axes>"
      ]
     },
     "metadata": {
      "needs_background": "light"
     },
     "output_type": "display_data"
    }
   ],
   "source": [
    "fig, ax = plt.subplots(figsize=(20,20))\n",
    "ax = calmap.yearplot(s,year=2021,monthticks=3,daylabels='MTWTFSS',\n",
    "                dayticks=[0, 2, 4, 6], ax = ax)\n",
    "for label in (ax.get_xticklabels() + ax.get_yticklabels()):\n",
    "\tlabel.set_fontsize(16)\n",
    "ax.set_title(\"2021\")\n",
    "plt.show()"
   ]
  },
  {
   "cell_type": "code",
   "execution_count": 39,
   "id": "c507aecc",
   "metadata": {},
   "outputs": [
    {
     "data": {
      "image/png": "[encoded data removed]",
      "text/plain": [
       "<Figure size 1440x1440 with 1 Axes>"
      ]
     },
     "metadata": {
      "needs_background": "light"
     },
     "output_type": "display_data"
    }
   ],
   "source": [
    "fig, ax = plt.subplots(figsize=(20,20))\n",
    "ax = calmap.yearplot(s,year=2022,monthticks=3,daylabels='MTWTFSS',\n",
    "                dayticks=[0, 2, 4, 6], ax = ax)\n",
    "for label in (ax.get_xticklabels() + ax.get_yticklabels()):\n",
    "\tlabel.set_fontsize(16)\n",
    "ax.set_title(\"2022\")\n",
    "plt.show()"
   ]
  },
  {
   "cell_type": "code",
   "execution_count": 40,
   "id": "52ff11cf",
   "metadata": {},
   "outputs": [
    {
     "data": {
      "text/plain": [
       "PUBLICACIÓN\n",
       "2022-03-03    79\n",
       "Name: Lugar, dtype: int64"
      ]
     },
     "execution_count": 40,
     "metadata": {},
     "output_type": "execute_result"
    }
   ],
   "source": [
    "# Día de maxima publicación\n",
    "s.loc[s==79]"
   ]
  },
  {
   "cell_type": "markdown",
   "id": "32c1f3c0",
   "metadata": {},
   "source": [
    "### 5.2 Antigüedad de las publicaciones"
   ]
  },
  {
   "cell_type": "code",
   "execution_count": 50,
   "id": "d6e03baf",
   "metadata": {},
   "outputs": [
    {
     "data": {
      "text/plain": [
       "0.3075328265376641"
      ]
     },
     "execution_count": 50,
     "metadata": {},
     "output_type": "execute_result"
    }
   ],
   "source": [
    "# Cantidad de publicaciones con más de tres meses de antigüedad\n",
    "limite = datetime.datetime.now() + relativedelta(months=-3)\n",
    "sliced = df.loc[df[\"PUBLICACIÓN\"]<limite,:]\n",
    "cantidad = sliced.shape[0]\n",
    "cantidad / df.shape[0]"
   ]
  },
  {
   "cell_type": "code",
   "execution_count": 51,
   "id": "e1e618ef",
   "metadata": {},
   "outputs": [
    {
     "data": {
      "text/plain": [
       "0.08880442294402212"
      ]
     },
     "execution_count": 51,
     "metadata": {},
     "output_type": "execute_result"
    }
   ],
   "source": [
    "limite = datetime.datetime.now() + relativedelta(months=-6)\n",
    "sliced = df.loc[df[\"PUBLICACIÓN\"]<limite,:]\n",
    "cantidad = sliced.shape[0]\n",
    "cantidad / df.shape[0]"
   ]
  },
  {
   "cell_type": "markdown",
   "id": "e4ced192",
   "metadata": {},
   "source": [
    "Luego, un 30% de las publicaciones tiene más de tres meses de antigüedad, el 8% más de seis meses."
   ]
  },
  {
   "cell_type": "markdown",
   "id": "49fe42ff",
   "metadata": {},
   "source": [
    "### 5.3 - Bar plot de posiciones por país"
   ]
  },
  {
   "cell_type": "code",
   "execution_count": 98,
   "id": "5638c8d5",
   "metadata": {},
   "outputs": [
    {
     "data": {
      "text/html": [
       "\n",
       "\n",
       "\n",
       "\n",
       "\n",
       "\n",
       "  <div class=\"bk-root\" id=\"267d5b54-c784-420d-97ea-297b70da1b00\" data-root-id=\"7329\"></div>\n"
      ]
     },
     "metadata": {},
     "output_type": "display_data"
    },
    {
     "data": {
      "application/javascript": [
       "(function(root) {\n",
       "  function embed_document(root) {\n",
       "    \n",
       "  const docs_json = {\"dca1c35d-9c38-4da5-982c-9166832f71c5\":{\"defs\":[],\"roots\":{\"references\":[{\"attributes\":{\"below\":[{\"id\":\"7340\"}],\"center\":[{\"id\":\"7342\"},{\"id\":\"7346\"}],\"height\":453,\"left\":[{\"id\":\"7343\"}],\"renderers\":[{\"id\":\"7355\"}],\"title\":{\"id\":\"7330\"},\"toolbar\":{\"id\":\"7348\"},\"width\":982,\"x_range\":{\"id\":\"7332\"},\"x_scale\":{\"id\":\"7336\"},\"y_range\":{\"id\":\"7334\"},\"y_scale\":{\"id\":\"7338\"}},\"id\":\"7329\",\"subtype\":\"Figure\",\"type\":\"Plot\"},{\"attributes\":{\"fill_alpha\":{\"value\":0.1},\"fill_color\":{\"field\":\"x\",\"transform\":{\"id\":\"7350\"}},\"hatch_alpha\":{\"value\":0.1},\"line_alpha\":{\"value\":0.1},\"line_color\":{\"value\":\"white\"},\"top\":{\"field\":\"counts\"},\"width\":{\"value\":0.9},\"x\":{\"field\":\"x\"}},\"id\":\"7353\",\"type\":\"VBar\"},{\"attributes\":{},\"id\":\"7625\",\"type\":\"AllLabels\"},{\"attributes\":{\"data\":{\"counts\":[684,660,344,304,297,280,169,53,30,24,17,12,8,7,2,1,1,1],\"x\":[\" M\\u00e9xico\",\" Estados Unidos\",\" Alemania\",\" Espa\\u00f1a\",\" Reino Unido\",\" Polonia\",\" Brasil\",\" Chile\",\" Argentina\",\" Austria\",\" Portugal\",\" Italia\",\" Holanda\",\" Ucrania\",\" Uruguay\",\" Bolivia\",\" Francia\",\" Suiza\"]},\"selected\":{\"id\":\"7627\"},\"selection_policy\":{\"id\":\"7626\"}},\"id\":\"7328\",\"type\":\"ColumnDataSource\"},{\"attributes\":{\"callback\":null,\"tooltips\":[[\"Count\",\"@counts\"]]},\"id\":\"7347\",\"type\":\"HoverTool\"},{\"attributes\":{},\"id\":\"7344\",\"type\":\"BasicTicker\"},{\"attributes\":{},\"id\":\"7627\",\"type\":\"Selection\"},{\"attributes\":{\"axis\":{\"id\":\"7343\"},\"coordinates\":null,\"dimension\":1,\"group\":null,\"ticker\":null},\"id\":\"7346\",\"type\":\"Grid\"},{\"attributes\":{},\"id\":\"7622\",\"type\":\"AllLabels\"},{\"attributes\":{\"coordinates\":null,\"formatter\":{\"id\":\"7624\"},\"group\":null,\"major_label_orientation\":0.7853981633974483,\"major_label_policy\":{\"id\":\"7625\"},\"ticker\":{\"id\":\"7341\"}},\"id\":\"7340\",\"type\":\"CategoricalAxis\"},{\"attributes\":{\"tools\":[{\"id\":\"7347\"}]},\"id\":\"7348\",\"type\":\"Toolbar\"},{\"attributes\":{},\"id\":\"7338\",\"type\":\"LinearScale\"},{\"attributes\":{\"axis\":{\"id\":\"7340\"},\"coordinates\":null,\"grid_line_color\":null,\"group\":null,\"ticker\":null},\"id\":\"7342\",\"type\":\"Grid\"},{\"attributes\":{},\"id\":\"7621\",\"type\":\"BasicTickFormatter\"},{\"attributes\":{\"coordinates\":null,\"formatter\":{\"id\":\"7621\"},\"group\":null,\"major_label_policy\":{\"id\":\"7622\"},\"ticker\":{\"id\":\"7344\"}},\"id\":\"7343\",\"type\":\"LinearAxis\"},{\"attributes\":{},\"id\":\"7341\",\"type\":\"CategoricalTicker\"},{\"attributes\":{},\"id\":\"7336\",\"type\":\"CategoricalScale\"},{\"attributes\":{\"fill_color\":{\"field\":\"x\",\"transform\":{\"id\":\"7350\"}},\"line_color\":{\"value\":\"white\"},\"top\":{\"field\":\"counts\"},\"width\":{\"value\":0.9},\"x\":{\"field\":\"x\"}},\"id\":\"7352\",\"type\":\"VBar\"},{\"attributes\":{},\"id\":\"7624\",\"type\":\"CategoricalTickFormatter\"},{\"attributes\":{\"end\":700,\"start\":0},\"id\":\"7334\",\"type\":\"DataRange1d\"},{\"attributes\":{\"coordinates\":null,\"group\":null,\"text\":\"Publicaciones por pa\\u00eds\"},\"id\":\"7330\",\"type\":\"Title\"},{\"attributes\":{\"factors\":[\" M\\u00e9xico\",\" Estados Unidos\",\" Alemania\",\" Espa\\u00f1a\",\" Reino Unido\",\" Polonia\",\" Brasil\",\" Chile\",\" Argentina\",\" Austria\",\" Portugal\",\" Italia\",\" Holanda\",\" Ucrania\",\" Uruguay\",\" Bolivia\",\" Francia\",\" Suiza\"],\"palette\":[\"#3182bd\",\"#6baed6\",\"#9ecae1\",\"#c6dbef\",\"#e6550d\",\"#fd8d3c\",\"#fdae6b\",\"#fdd0a2\",\"#31a354\",\"#74c476\",\"#a1d99b\",\"#c7e9c0\",\"#756bb1\",\"#9e9ac8\",\"#bcbddc\",\"#dadaeb\",\"#636363\",\"#969696\",\"#bdbdbd\",\"#d9d9d9\"]},\"id\":\"7350\",\"type\":\"CategoricalColorMapper\"},{\"attributes\":{\"fill_alpha\":{\"value\":0.2},\"fill_color\":{\"field\":\"x\",\"transform\":{\"id\":\"7350\"}},\"hatch_alpha\":{\"value\":0.2},\"line_alpha\":{\"value\":0.2},\"line_color\":{\"value\":\"white\"},\"top\":{\"field\":\"counts\"},\"width\":{\"value\":0.9},\"x\":{\"field\":\"x\"}},\"id\":\"7354\",\"type\":\"VBar\"},{\"attributes\":{},\"id\":\"7626\",\"type\":\"UnionRenderers\"},{\"attributes\":{\"source\":{\"id\":\"7328\"}},\"id\":\"7356\",\"type\":\"CDSView\"},{\"attributes\":{\"coordinates\":null,\"data_source\":{\"id\":\"7328\"},\"glyph\":{\"id\":\"7352\"},\"group\":null,\"hover_glyph\":null,\"muted_glyph\":{\"id\":\"7354\"},\"nonselection_glyph\":{\"id\":\"7353\"},\"view\":{\"id\":\"7356\"}},\"id\":\"7355\",\"type\":\"GlyphRenderer\"},{\"attributes\":{\"factors\":[\" M\\u00e9xico\",\" Estados Unidos\",\" Alemania\",\" Espa\\u00f1a\",\" Reino Unido\",\" Polonia\",\" Brasil\",\" Chile\",\" Argentina\",\" Austria\",\" Portugal\",\" Italia\",\" Holanda\",\" Ucrania\",\" Uruguay\",\" Bolivia\",\" Francia\",\" Suiza\"]},\"id\":\"7332\",\"type\":\"FactorRange\"}],\"root_ids\":[\"7329\"]},\"title\":\"Bokeh Application\",\"version\":\"2.4.2\"}};\n",
       "  const render_items = [{\"docid\":\"dca1c35d-9c38-4da5-982c-9166832f71c5\",\"root_ids\":[\"7329\"],\"roots\":{\"7329\":\"267d5b54-c784-420d-97ea-297b70da1b00\"}}];\n",
       "  root.Bokeh.embed.embed_items_notebook(docs_json, render_items);\n",
       "\n",
       "  }\n",
       "  if (root.Bokeh !== undefined) {\n",
       "    embed_document(root);\n",
       "  } else {\n",
       "    let attempts = 0;\n",
       "    const timer = setInterval(function(root) {\n",
       "      if (root.Bokeh !== undefined) {\n",
       "        clearInterval(timer);\n",
       "        embed_document(root);\n",
       "      } else {\n",
       "        attempts++;\n",
       "        if (attempts > 100) {\n",
       "          clearInterval(timer);\n",
       "          console.log(\"Bokeh: ERROR: Unable to run BokehJS code because BokehJS library is missing\");\n",
       "        }\n",
       "      }\n",
       "    }, 10, root)\n",
       "  }\n",
       "})(window);"
      ],
      "application/vnd.bokehjs_exec.v0+json": ""
     },
     "metadata": {
      "application/vnd.bokehjs_exec.v0+json": {
       "id": "7329"
      }
     },
     "output_type": "display_data"
    }
   ],
   "source": [
    "s = df.pais.value_counts()\n",
    "X = list(s.index)\n",
    "Y = s.values\n",
    "\n",
    "pi=np.pi #Número pi para la inclinación de etiquetas\n",
    "\n",
    "source = ColumnDataSource(data=dict(x=X, counts=Y))\n",
    "\n",
    "p = figure(tools=\"\",x_range=X, plot_height=453,plot_width=982, title=\"Publicaciones por país\", tooltips=[(\"Count\", \"@counts\")])\n",
    "p.vbar(x='x', top='counts', width=0.9, source=source,\n",
    "       line_color='white', fill_color=factor_cmap('x',palette=Category20c[20], factors=X))\n",
    "\n",
    "p.xgrid.grid_line_color = None\n",
    "p.xaxis.major_label_orientation = pi/4\n",
    "p.y_range.start = 0\n",
    "p.y_range.end = 700\n",
    "#p.legend.orientation = \"vertical\"\n",
    "#p.legend.location = \"top_center\"\n",
    "\n",
    "show(p)"
   ]
  },
  {
   "cell_type": "markdown",
   "id": "d72d32cf",
   "metadata": {},
   "source": [
    "### 5.4 - Top diez categorías"
   ]
  },
  {
   "cell_type": "code",
   "execution_count": 96,
   "id": "605da500",
   "metadata": {},
   "outputs": [
    {
     "data": {
      "text/html": [
       "\n",
       "\n",
       "\n",
       "\n",
       "\n",
       "\n",
       "  <div class=\"bk-root\" id=\"15032d8e-d052-4aea-8537-039e8bb691d2\" data-root-id=\"6666\"></div>\n"
      ]
     },
     "metadata": {},
     "output_type": "display_data"
    },
    {
     "data": {
      "application/javascript": [
       "(function(root) {\n",
       "  function embed_document(root) {\n",
       "    \n",
       "  const docs_json = {\"f850f7a9-3eac-428b-b5b9-44a774ae556a\":{\"defs\":[],\"roots\":{\"references\":[{\"attributes\":{\"below\":[{\"id\":\"6677\"}],\"center\":[{\"id\":\"6679\"},{\"id\":\"6683\"}],\"height\":500,\"left\":[{\"id\":\"6680\"}],\"renderers\":[{\"id\":\"6692\"}],\"title\":{\"id\":\"6667\"},\"toolbar\":{\"id\":\"6685\"},\"width\":982,\"x_range\":{\"id\":\"6669\"},\"x_scale\":{\"id\":\"6673\"},\"y_range\":{\"id\":\"6671\"},\"y_scale\":{\"id\":\"6675\"}},\"id\":\"6666\",\"subtype\":\"Figure\",\"type\":\"Plot\"},{\"attributes\":{\"axis\":{\"id\":\"6680\"},\"coordinates\":null,\"dimension\":1,\"group\":null,\"ticker\":null},\"id\":\"6683\",\"type\":\"Grid\"},{\"attributes\":{\"end\":700,\"start\":0},\"id\":\"6671\",\"type\":\"DataRange1d\"},{\"attributes\":{\"factors\":[\"Customer S&S: F2F (NEW)\",\"Software Engineering (NEW)\",\"Operaciones & Soporte\",\"Consumer Financing, Corporate & Investment Banking, Wealth Management & Private Banking\",\"Customer S&S: Remote (NEW)\",\"Customer S&S: Specialized products (NEW)\",\"Operations (NEW)\",\"Data Analytics & Models (NEW)\",\"Early Careers (NEW)\",\"Compliance (NEW)\"]},\"id\":\"6669\",\"type\":\"FactorRange\"},{\"attributes\":{},\"id\":\"6944\",\"type\":\"AllLabels\"},{\"attributes\":{\"fill_color\":{\"field\":\"x\",\"transform\":{\"id\":\"6687\"}},\"line_color\":{\"value\":\"white\"},\"top\":{\"field\":\"counts\"},\"width\":{\"value\":0.9},\"x\":{\"field\":\"x\"}},\"id\":\"6689\",\"type\":\"VBar\"},{\"attributes\":{\"data\":{\"counts\":[567,235,176,174,151,122,116,83,71,69],\"x\":[\"Customer S&S: F2F (NEW)\",\"Software Engineering (NEW)\",\"Operaciones & Soporte\",\"Consumer Financing, Corporate & Investment Banking, Wealth Management & Private Banking\",\"Customer S&S: Remote (NEW)\",\"Customer S&S: Specialized products (NEW)\",\"Operations (NEW)\",\"Data Analytics & Models (NEW)\",\"Early Careers (NEW)\",\"Compliance (NEW)\"]},\"selected\":{\"id\":\"6946\"},\"selection_policy\":{\"id\":\"6945\"}},\"id\":\"6665\",\"type\":\"ColumnDataSource\"},{\"attributes\":{\"factors\":[\"Customer S&S: F2F (NEW)\",\"Software Engineering (NEW)\",\"Operaciones & Soporte\",\"Consumer Financing, Corporate & Investment Banking, Wealth Management & Private Banking\",\"Customer S&S: Remote (NEW)\",\"Customer S&S: Specialized products (NEW)\",\"Operations (NEW)\",\"Data Analytics & Models (NEW)\",\"Early Careers (NEW)\",\"Compliance (NEW)\"],\"palette\":[\"#67000d\",\"#a50f15\",\"#cb181d\",\"#ef3b2c\",\"#fb6a4a\",\"#fc9272\",\"#fcbba1\",\"#fee0d2\",\"#fff5f0\",\"#e9e5e5\"]},\"id\":\"6687\",\"type\":\"CategoricalColorMapper\"},{\"attributes\":{},\"id\":\"6946\",\"type\":\"Selection\"},{\"attributes\":{},\"id\":\"6681\",\"type\":\"BasicTicker\"},{\"attributes\":{},\"id\":\"6945\",\"type\":\"UnionRenderers\"},{\"attributes\":{\"callback\":null,\"tooltips\":[[\"Count\",\"@counts\"]]},\"id\":\"6684\",\"type\":\"HoverTool\"},{\"attributes\":{\"fill_alpha\":{\"value\":0.1},\"fill_color\":{\"field\":\"x\",\"transform\":{\"id\":\"6687\"}},\"hatch_alpha\":{\"value\":0.1},\"line_alpha\":{\"value\":0.1},\"line_color\":{\"value\":\"white\"},\"top\":{\"field\":\"counts\"},\"width\":{\"value\":0.9},\"x\":{\"field\":\"x\"}},\"id\":\"6690\",\"type\":\"VBar\"},{\"attributes\":{\"source\":{\"id\":\"6665\"}},\"id\":\"6693\",\"type\":\"CDSView\"},{\"attributes\":{\"coordinates\":null,\"formatter\":{\"id\":\"6943\"},\"group\":null,\"major_label_orientation\":0.39269908169872414,\"major_label_policy\":{\"id\":\"6944\"},\"ticker\":{\"id\":\"6678\"}},\"id\":\"6677\",\"type\":\"CategoricalAxis\"},{\"attributes\":{\"coordinates\":null,\"data_source\":{\"id\":\"6665\"},\"glyph\":{\"id\":\"6689\"},\"group\":null,\"hover_glyph\":null,\"muted_glyph\":{\"id\":\"6691\"},\"nonselection_glyph\":{\"id\":\"6690\"},\"view\":{\"id\":\"6693\"}},\"id\":\"6692\",\"type\":\"GlyphRenderer\"},{\"attributes\":{},\"id\":\"6943\",\"type\":\"CategoricalTickFormatter\"},{\"attributes\":{},\"id\":\"6675\",\"type\":\"LinearScale\"},{\"attributes\":{\"axis\":{\"id\":\"6677\"},\"coordinates\":null,\"grid_line_color\":null,\"group\":null,\"ticker\":null},\"id\":\"6679\",\"type\":\"Grid\"},{\"attributes\":{\"coordinates\":null,\"formatter\":{\"id\":\"6940\"},\"group\":null,\"major_label_policy\":{\"id\":\"6941\"},\"ticker\":{\"id\":\"6681\"}},\"id\":\"6680\",\"type\":\"LinearAxis\"},{\"attributes\":{\"fill_alpha\":{\"value\":0.2},\"fill_color\":{\"field\":\"x\",\"transform\":{\"id\":\"6687\"}},\"hatch_alpha\":{\"value\":0.2},\"line_alpha\":{\"value\":0.2},\"line_color\":{\"value\":\"white\"},\"top\":{\"field\":\"counts\"},\"width\":{\"value\":0.9},\"x\":{\"field\":\"x\"}},\"id\":\"6691\",\"type\":\"VBar\"},{\"attributes\":{},\"id\":\"6678\",\"type\":\"CategoricalTicker\"},{\"attributes\":{\"coordinates\":null,\"group\":null,\"text\":\"Top diez categor\\u00edas\"},\"id\":\"6667\",\"type\":\"Title\"},{\"attributes\":{},\"id\":\"6673\",\"type\":\"CategoricalScale\"},{\"attributes\":{\"tools\":[{\"id\":\"6684\"}]},\"id\":\"6685\",\"type\":\"Toolbar\"},{\"attributes\":{},\"id\":\"6940\",\"type\":\"BasicTickFormatter\"},{\"attributes\":{},\"id\":\"6941\",\"type\":\"AllLabels\"}],\"root_ids\":[\"6666\"]},\"title\":\"Bokeh Application\",\"version\":\"2.4.2\"}};\n",
       "  const render_items = [{\"docid\":\"f850f7a9-3eac-428b-b5b9-44a774ae556a\",\"root_ids\":[\"6666\"],\"roots\":{\"6666\":\"15032d8e-d052-4aea-8537-039e8bb691d2\"}}];\n",
       "  root.Bokeh.embed.embed_items_notebook(docs_json, render_items);\n",
       "\n",
       "  }\n",
       "  if (root.Bokeh !== undefined) {\n",
       "    embed_document(root);\n",
       "  } else {\n",
       "    let attempts = 0;\n",
       "    const timer = setInterval(function(root) {\n",
       "      if (root.Bokeh !== undefined) {\n",
       "        clearInterval(timer);\n",
       "        embed_document(root);\n",
       "      } else {\n",
       "        attempts++;\n",
       "        if (attempts > 100) {\n",
       "          clearInterval(timer);\n",
       "          console.log(\"Bokeh: ERROR: Unable to run BokehJS code because BokehJS library is missing\");\n",
       "        }\n",
       "      }\n",
       "    }, 10, root)\n",
       "  }\n",
       "})(window);"
      ],
      "application/vnd.bokehjs_exec.v0+json": ""
     },
     "metadata": {
      "application/vnd.bokehjs_exec.v0+json": {
       "id": "6666"
      }
     },
     "output_type": "display_data"
    }
   ],
   "source": [
    "s = df[\"Categoría\"].value_counts(ascending=False)[:10]\n",
    "X = list(s.index)\n",
    "Y = s.values\n",
    "\n",
    "pi=np.pi #Número pi para la inclinación de etiquetas\n",
    "\n",
    "source = ColumnDataSource(data=dict(x=X, counts=Y))\n",
    "\n",
    "p = figure(tools=\"\",x_range=X, plot_height=500,plot_width=982, title=\"Top diez categorías\",tooltips=[(\"Count\", \"@counts\")])\n",
    "p.vbar(x='x', top='counts', width=0.9, source=source,\n",
    "       line_color='white', fill_color=factor_cmap('x',palette=(*Reds[9],\"#e9e5e5\"), factors=X))\n",
    "\n",
    "p.xgrid.grid_line_color = None\n",
    "p.xaxis.major_label_orientation = pi/8\n",
    "p.y_range.start = 0\n",
    "p.y_range.end = 700\n",
    "# p.legend.orientation = \"vertical\"\n",
    "# p.legend.location = \"top_center\"\n",
    "\n",
    "show(p)"
   ]
  }
 ],
 "metadata": {
  "kernelspec": {
   "display_name": "Python 3 (ipykernel)",
   "language": "python",
   "name": "python3"
  },
  "language_info": {
   "codemirror_mode": {
    "name": "ipython",
    "version": 3
   },
   "file_extension": ".py",
   "mimetype": "text/x-python",
   "name": "python",
   "nbconvert_exporter": "python",
   "pygments_lexer": "ipython3",
   "version": "3.9.6"
  }
 },
 "nbformat": 4,
 "nbformat_minor": 5
}
